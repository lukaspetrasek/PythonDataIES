{
 "cells": [
  {
   "cell_type": "markdown",
   "metadata": {},
   "source": [
    "# Lecture 13\n",
    "\n",
    "by Martin Hronec\n",
    "\n",
    "May 15-16\n",
    "\n",
    "### Table of contents\n",
    "\n",
    "1. [Decorators](#decorators)\n",
    "2. [Dask](#Dask)"
   ]
  },
  {
   "cell_type": "markdown",
   "metadata": {},
   "source": [
    "## Decorators\n",
    "* [nice (very long) tutorial](https://realpython.com/primer-on-python-decorators/) \n",
    "\n",
    "\n",
    "**Functions (review)**\n",
    "* to understand *decorators*, quick review of functions in Python\n",
    "* functions are *first-class objects* (can be passed around and used as arguments, just like any other object)"
   ]
  },
  {
   "cell_type": "code",
   "execution_count": 2,
   "metadata": {},
   "outputs": [],
   "source": [
    "def x(a,b):\n",
    "    print(f\"param 1: {a}, param 2: {b}\")\n",
    "    \n",
    "# y expects function\n",
    "def y(z,t):\n",
    "    z(*t)"
   ]
  },
  {
   "cell_type": "code",
   "execution_count": 3,
   "metadata": {},
   "outputs": [
    {
     "name": "stdout",
     "output_type": "stream",
     "text": [
      "param 1: hello, param 2: world\n"
     ]
    }
   ],
   "source": [
    "y(x,(\"hello\",\"world\"))"
   ]
  },
  {
   "cell_type": "code",
   "execution_count": 4,
   "metadata": {},
   "outputs": [],
   "source": [
    "# what if we return the function \n",
    "def y_(z,t):\n",
    "    return(z)"
   ]
  },
  {
   "cell_type": "code",
   "execution_count": 6,
   "metadata": {},
   "outputs": [],
   "source": [
    "# y_(x,(\"hello\",\"manuel\"))"
   ]
  },
  {
   "cell_type": "markdown",
   "metadata": {},
   "source": [
    "* possibility to define *inner functions*\n",
    "    * the inner functions are not defined until the parent function is called"
   ]
  },
  {
   "cell_type": "code",
   "execution_count": 12,
   "metadata": {},
   "outputs": [],
   "source": [
    "def parent():\n",
    "    print(\"Silence of the parent() function\")\n",
    "\n",
    "    def first_child():\n",
    "        print(\"Noise from the first_child() function\")\n",
    "\n",
    "    def second_child():\n",
    "        print(\"Signal from the second_child() function\")\n",
    "\n",
    "    second_child()\n",
    "    first_child()"
   ]
  },
  {
   "cell_type": "code",
   "execution_count": 13,
   "metadata": {},
   "outputs": [
    {
     "name": "stdout",
     "output_type": "stream",
     "text": [
      "Silence of the parent() function\n",
      "Signal from the second_child() function\n",
      "Noise from the first_child() function\n"
     ]
    }
   ],
   "source": [
    "parent()"
   ]
  },
  {
   "cell_type": "markdown",
   "metadata": {},
   "source": [
    "* they only exist inside the parent() function as local variables\n",
    "    * try to call `second_child()` "
   ]
  },
  {
   "cell_type": "code",
   "execution_count": 14,
   "metadata": {},
   "outputs": [
    {
     "ename": "NameError",
     "evalue": "name 'second_child' is not defined",
     "output_type": "error",
     "traceback": [
      "\u001b[1;31m---------------------------------------------------------------------------\u001b[0m",
      "\u001b[1;31mNameError\u001b[0m                                 Traceback (most recent call last)",
      "\u001b[1;32m<ipython-input-14-afb29f492a83>\u001b[0m in \u001b[0;36m<module>\u001b[1;34m\u001b[0m\n\u001b[1;32m----> 1\u001b[1;33m \u001b[0msecond_child\u001b[0m\u001b[1;33m(\u001b[0m\u001b[1;33m)\u001b[0m\u001b[1;33m\u001b[0m\u001b[1;33m\u001b[0m\u001b[0m\n\u001b[0m",
      "\u001b[1;31mNameError\u001b[0m: name 'second_child' is not defined"
     ]
    }
   ],
   "source": [
    "second_child()"
   ]
  },
  {
   "cell_type": "markdown",
   "metadata": {},
   "source": [
    "* we can also return the inner function (reference to it, since we are not running it)"
   ]
  },
  {
   "cell_type": "code",
   "execution_count": 19,
   "metadata": {},
   "outputs": [],
   "source": [
    "def parent():\n",
    "    print(\"Silence of the parent() function\")\n",
    "\n",
    "    def first_child():\n",
    "        print(\"Noise from the first_child() function\")\n",
    "\n",
    "    def second_child():\n",
    "        print(\"Signal from the second_child() function\")\n",
    "\n",
    "    return(second_child)"
   ]
  },
  {
   "cell_type": "code",
   "execution_count": 20,
   "metadata": {},
   "outputs": [
    {
     "name": "stdout",
     "output_type": "stream",
     "text": [
      "Silence of the parent() function\n"
     ]
    },
    {
     "data": {
      "text/plain": [
       "<function __main__.parent.<locals>.second_child()>"
      ]
     },
     "execution_count": 20,
     "metadata": {},
     "output_type": "execute_result"
    }
   ],
   "source": [
    "papa_func = parent()\n",
    "papa_func"
   ]
  },
  {
   "cell_type": "markdown",
   "metadata": {},
   "source": [
    "### Simple decorators"
   ]
  },
  {
   "cell_type": "code",
   "execution_count": 25,
   "metadata": {},
   "outputs": [],
   "source": [
    "def my_decorator(func):\n",
    "    def wrapper():\n",
    "        print(\"Action-holder BEFORE the function is called.\")\n",
    "        func()\n",
    "        print(\"Action-holder ALFTER the function is called.\")\n",
    "    return wrapper\n",
    "\n",
    "def say_smthng():\n",
    "    print(\"Not enough coffee.\")"
   ]
  },
  {
   "cell_type": "code",
   "execution_count": 26,
   "metadata": {},
   "outputs": [],
   "source": [
    "# this is where the decoration happens\n",
    "beg_for_coffee = my_decorator(say_smthng)"
   ]
  },
  {
   "cell_type": "markdown",
   "metadata": {},
   "source": [
    "* `say_smthng` points to the `wrapper()` (inner function )\n",
    "    * we return `wrapper` as a function, when calling my_decorator\n",
    "* decorators wrap a function, modifying its behavior"
   ]
  },
  {
   "cell_type": "code",
   "execution_count": 33,
   "metadata": {},
   "outputs": [],
   "source": [
    "from datetime import datetime\n",
    "\n",
    "def not_after_six(func):\n",
    "    def wrapper():\n",
    "        if 5 <= datetime.now().hour < 19:\n",
    "            func()\n",
    "        else:\n",
    "            pass  # Don't drink coffee af night (if you do, do it with bacon only)\n",
    "    return wrapper\n",
    "\n",
    "def say_smthng():\n",
    "    print(\"Not enough coffee.\")\n",
    "\n",
    "say_smthng = not_after_six(say_smthng)"
   ]
  },
  {
   "cell_type": "code",
   "execution_count": 34,
   "metadata": {},
   "outputs": [
    {
     "name": "stdout",
     "output_type": "stream",
     "text": [
      "Not enough coffee.\n"
     ]
    }
   ],
   "source": [
    "say_smthng() "
   ]
  },
  {
   "cell_type": "markdown",
   "metadata": {},
   "source": [
    "* decoration process above is a little ugly\n",
    "    * use `@` - *pie syntax*"
   ]
  },
  {
   "cell_type": "code",
   "execution_count": 35,
   "metadata": {},
   "outputs": [],
   "source": [
    "def my_decorator(func):\n",
    "    def wrapper():\n",
    "        print(\"Action-holder BEFORE the function is called.\")\n",
    "        func()\n",
    "        print(\"Action-holder ALFTER the function is called.\")\n",
    "    return wrapper\n",
    "\n",
    "@my_decorator\n",
    "def say_smthng():\n",
    "    print(\"Not enough coffee.\")"
   ]
  },
  {
   "cell_type": "markdown",
   "metadata": {},
   "source": [
    "* `@my_decorator` is just an easier way of saying `say_whee = my_decorator(say_whee)`\n",
    "    * this is how we apply a decorator to a function\n",
    "* decorators are just a regular Python functions "
   ]
  },
  {
   "cell_type": "code",
   "execution_count": 36,
   "metadata": {},
   "outputs": [],
   "source": [
    "# another decorator example\n",
    "def do_twice(func):\n",
    "    def wrapper_do_twice():\n",
    "        func()\n",
    "        func()\n",
    "    return wrapper_do_twice"
   ]
  },
  {
   "cell_type": "code",
   "execution_count": 39,
   "metadata": {},
   "outputs": [],
   "source": [
    "@do_twice\n",
    "def say_smthng():\n",
    "    print(\"Not enough coffee.\")"
   ]
  },
  {
   "cell_type": "code",
   "execution_count": 41,
   "metadata": {},
   "outputs": [
    {
     "name": "stdout",
     "output_type": "stream",
     "text": [
      "Not enough coffee.\n",
      "Not enough coffee.\n"
     ]
    }
   ],
   "source": [
    "say_smthng()"
   ]
  },
  {
   "cell_type": "markdown",
   "metadata": {},
   "source": [
    "**Decorating functions with arguments**\n",
    "\n",
    "* what if the inner function does not take any argument, but we pass something to it?"
   ]
  },
  {
   "cell_type": "code",
   "execution_count": 43,
   "metadata": {},
   "outputs": [],
   "source": [
    "def do_twice(func):\n",
    "    def wrapper_do_twice():\n",
    "        func()\n",
    "        func()\n",
    "    return wrapper_do_twice\n",
    "\n",
    "@do_twice\n",
    "def greet(name):\n",
    "    print(f\"Hello {name}\")"
   ]
  },
  {
   "cell_type": "code",
   "execution_count": 44,
   "metadata": {},
   "outputs": [
    {
     "ename": "TypeError",
     "evalue": "wrapper_do_twice() takes 0 positional arguments but 1 was given",
     "output_type": "error",
     "traceback": [
      "\u001b[1;31m---------------------------------------------------------------------------\u001b[0m",
      "\u001b[1;31mTypeError\u001b[0m                                 Traceback (most recent call last)",
      "\u001b[1;32m<ipython-input-44-e2d5f6e471ca>\u001b[0m in \u001b[0;36m<module>\u001b[1;34m\u001b[0m\n\u001b[1;32m----> 1\u001b[1;33m \u001b[0mgreet\u001b[0m\u001b[1;33m(\u001b[0m\u001b[1;34m\"World\"\u001b[0m\u001b[1;33m)\u001b[0m\u001b[1;33m\u001b[0m\u001b[1;33m\u001b[0m\u001b[0m\n\u001b[0m",
      "\u001b[1;31mTypeError\u001b[0m: wrapper_do_twice() takes 0 positional arguments but 1 was given"
     ]
    }
   ],
   "source": [
    "greet(\"World\")"
   ]
  },
  {
   "cell_type": "markdown",
   "metadata": {},
   "source": [
    "* use `*args` (Non Keyword Arguments) and `**kwargs` (Keyword Arguments) in the inner wrapper function\n",
    "    * it will accept an arbitrary number of positional and keyword arguments\n",
    "    "
   ]
  },
  {
   "cell_type": "code",
   "execution_count": 51,
   "metadata": {},
   "outputs": [],
   "source": [
    "def do_twice(func):\n",
    "    def wrapper_do_twice(*args, **kwargs):\n",
    "        func(*args, **kwargs)\n",
    "        func(*args, **kwargs)\n",
    "    return wrapper_do_twice\n",
    "\n",
    "@do_twice\n",
    "def greet(name):\n",
    "    print(f\"Hello {name}\")"
   ]
  },
  {
   "cell_type": "markdown",
   "metadata": {},
   "source": [
    "* `wrapper_do_twice()` inner function now accepts any number of arguments and passes them on to the function it decorates."
   ]
  },
  {
   "cell_type": "code",
   "execution_count": 52,
   "metadata": {},
   "outputs": [
    {
     "name": "stdout",
     "output_type": "stream",
     "text": [
      "Hello World\n",
      "Hello World\n"
     ]
    }
   ],
   "source": [
    "greet(\"World\")"
   ]
  },
  {
   "cell_type": "markdown",
   "metadata": {},
   "source": [
    "**return value of decorated functions**\n",
    "* what happens to the return value of decorated function\n",
    "    * up to the decorator to decide"
   ]
  },
  {
   "cell_type": "code",
   "execution_count": 53,
   "metadata": {},
   "outputs": [],
   "source": [
    "@do_twice\n",
    "def return_greeting(name):\n",
    "    print(\"Creating greeting\")\n",
    "    return f\"Hi {name}\""
   ]
  },
  {
   "cell_type": "code",
   "execution_count": 57,
   "metadata": {},
   "outputs": [
    {
     "name": "stdout",
     "output_type": "stream",
     "text": [
      "Creating greeting\n",
      "Creating greeting\n",
      "None\n"
     ]
    }
   ],
   "source": [
    "hi_tom = return_greeting(\"Tom\")\n",
    "print(hi_tom)"
   ]
  },
  {
   "cell_type": "markdown",
   "metadata": {},
   "source": [
    "* `None` ?\n",
    "    * reason is that `do_twice_wrapper() doesn't explicitly return a value\n",
    "* **make sure the wrapper function returns the return value of the decorated function**"
   ]
  },
  {
   "cell_type": "code",
   "execution_count": 59,
   "metadata": {},
   "outputs": [],
   "source": [
    "def do_twice(func):\n",
    "    def wrapper_do_twice(*args, **kwargs):\n",
    "        func(*args, **kwargs)\n",
    "        return func(*args, **kwargs)\n",
    "    return wrapper_do_twice"
   ]
  },
  {
   "cell_type": "code",
   "execution_count": 60,
   "metadata": {},
   "outputs": [],
   "source": [
    "@do_twice\n",
    "def return_greeting(name):\n",
    "    print(\"Creating greeting\")\n",
    "    return f\"Hi {name}\""
   ]
  },
  {
   "cell_type": "code",
   "execution_count": 62,
   "metadata": {},
   "outputs": [
    {
     "name": "stdout",
     "output_type": "stream",
     "text": [
      "Creating greeting\n",
      "Creating greeting\n"
     ]
    },
    {
     "data": {
      "text/plain": [
       "'Hi Tom'"
      ]
     },
     "execution_count": 62,
     "metadata": {},
     "output_type": "execute_result"
    }
   ],
   "source": [
    "return_greeting(\"Tom\")"
   ]
  },
  {
   "cell_type": "markdown",
   "metadata": {},
   "source": [
    "### functools.wraps()\n",
    "* when using *decorators* you technically replace one function `f` with another `f_decor`\n",
    "    * in the process you however also replace\n",
    "        * name\n",
    "        * docstring"
   ]
  },
  {
   "cell_type": "code",
   "execution_count": 81,
   "metadata": {},
   "outputs": [],
   "source": [
    "def logged(func):\n",
    "    def logging_wrapper(*args, **kwargs):\n",
    "        print(func.__name__ + \" was called\")\n",
    "        return func(*args, **kwargs)\n",
    "    return logging_wrapper"
   ]
  },
  {
   "cell_type": "code",
   "execution_count": 82,
   "metadata": {},
   "outputs": [],
   "source": [
    "@logged\n",
    "def f(x):\n",
    "   \"\"\"not so elaborate docstring\"\"\"\n",
    "   return x + x * x"
   ]
  },
  {
   "cell_type": "code",
   "execution_count": 83,
   "metadata": {},
   "outputs": [
    {
     "name": "stdout",
     "output_type": "stream",
     "text": [
      "logging_wrapper\n"
     ]
    }
   ],
   "source": [
    "print(f.__name__)"
   ]
  },
  {
   "cell_type": "code",
   "execution_count": 84,
   "metadata": {},
   "outputs": [
    {
     "name": "stdout",
     "output_type": "stream",
     "text": [
      "None\n"
     ]
    }
   ],
   "source": [
    "print(f.__doc__)"
   ]
  },
  {
   "cell_type": "markdown",
   "metadata": {},
   "source": [
    "* if using a decorator always meant losing this information about a function, it would be a serious problem\n",
    "* `functools.wraps` to the rescue\n",
    "    * takes a function used in a decorator and adds the functionality of copying over the function name, docstring, arguments list, etc. \n",
    "* since `wraps` is itself a decorator, the following code works nicely"
   ]
  },
  {
   "cell_type": "code",
   "execution_count": 85,
   "metadata": {},
   "outputs": [
    {
     "name": "stdout",
     "output_type": "stream",
     "text": [
      "f\n",
      "not so elaborate docstring\n"
     ]
    }
   ],
   "source": [
    "from functools import wraps\n",
    "def logged(func):\n",
    "    @wraps(func)\n",
    "    def logging_wrapper(*args, **kwargs):\n",
    "        print(func.__name__ + \" was called\")\n",
    "        return func(*args, **kwargs)\n",
    "    return logging_wrapper\n",
    "\n",
    "@logged\n",
    "def f(x):\n",
    "   \"\"\"not so elaborate docstring\"\"\"\n",
    "   return x + x * x\n",
    "\n",
    "print(f.__name__)  # prints 'f'\n",
    "print(f.__doc__)   # prints 'does some math'"
   ]
  },
  {
   "cell_type": "markdown",
   "metadata": {},
   "source": [
    "### Example: Timing decorator\n",
    "* measure the time a function takes to execute"
   ]
  },
  {
   "cell_type": "code",
   "execution_count": 90,
   "metadata": {},
   "outputs": [],
   "source": [
    "import functools\n",
    "import time\n",
    "\n",
    "def timer(func):\n",
    "    \"\"\"Print the runtime of the decorated function\"\"\"\n",
    "    @functools.wraps(func)\n",
    "    def wrapper_timer(*args, **kwargs):\n",
    "        start_time = time.perf_counter()    # 1\n",
    "        value = func(*args, **kwargs)\n",
    "        end_time = time.perf_counter()      # 2\n",
    "        run_time = end_time - start_time    # 3\n",
    "        print(f\"Finished {func.__name__!r} in {run_time:.4f} secs\")\n",
    "        return value\n",
    "    return wrapper_timer\n",
    "\n",
    "@timer\n",
    "def waste_some_time(num_times):\n",
    "    for _ in range(num_times):\n",
    "        sum([i**2 for i in range(10000)])"
   ]
  },
  {
   "cell_type": "code",
   "execution_count": 91,
   "metadata": {},
   "outputs": [
    {
     "name": "stdout",
     "output_type": "stream",
     "text": [
      "Finished 'waste_some_time' in 0.0029 secs\n"
     ]
    }
   ],
   "source": [
    "waste_some_time(1)"
   ]
  },
  {
   "cell_type": "code",
   "execution_count": 92,
   "metadata": {},
   "outputs": [
    {
     "name": "stdout",
     "output_type": "stream",
     "text": [
      "Finished 'waste_some_time' in 3.1754 secs\n"
     ]
    }
   ],
   "source": [
    "waste_some_time(999)"
   ]
  },
  {
   "cell_type": "markdown",
   "metadata": {},
   "source": [
    "### Example: Debugging decorator"
   ]
  },
  {
   "cell_type": "code",
   "execution_count": 106,
   "metadata": {},
   "outputs": [],
   "source": [
    "from functools import wraps\n",
    "\n",
    "def debug(func):\n",
    "    \"\"\"Print the function signature and return value\"\"\"\n",
    "    @wraps(func)\n",
    "    def wrapper_debug(*args, **kwargs):\n",
    "        args_repr = [repr(a) for a in args]                      \n",
    "        kwargs_repr = [f\"{k}={v!r}\" for k, v in kwargs.items()]  \n",
    "        signature = \", \".join(args_repr + kwargs_repr)           \n",
    "        print(f\"Calling {func.__name__}({signature})\")\n",
    "        value = func(*args, **kwargs)\n",
    "        print(f\"{func.__name__!r} returned {value!r}\")  \n",
    "        return value\n",
    "    return wrapper_debug"
   ]
  },
  {
   "cell_type": "code",
   "execution_count": 107,
   "metadata": {},
   "outputs": [],
   "source": [
    "@debug\n",
    "def make_greeting(name, age=None):\n",
    "    if age is None:\n",
    "        return f\"Howdy {name}!\"\n",
    "    else:\n",
    "        return f\"Whoa {name}! {age} already, you are growing up!\""
   ]
  },
  {
   "cell_type": "code",
   "execution_count": 108,
   "metadata": {},
   "outputs": [
    {
     "name": "stdout",
     "output_type": "stream",
     "text": [
      "Calling make_greeting('Benjamin')\n",
      "'make_greeting' returned 'Howdy Benjamin!'\n"
     ]
    },
    {
     "data": {
      "text/plain": [
       "'Howdy Benjamin!'"
      ]
     },
     "execution_count": 108,
     "metadata": {},
     "output_type": "execute_result"
    }
   ],
   "source": [
    "make_greeting(\"Benjamin\")"
   ]
  },
  {
   "cell_type": "code",
   "execution_count": 109,
   "metadata": {},
   "outputs": [
    {
     "name": "stdout",
     "output_type": "stream",
     "text": [
      "Calling make_greeting(name='Dorrisile', age=116)\n",
      "'make_greeting' returned 'Whoa Dorrisile! 116 already, you are growing up!'\n"
     ]
    },
    {
     "data": {
      "text/plain": [
       "'Whoa Dorrisile! 116 already, you are growing up!'"
      ]
     },
     "execution_count": 109,
     "metadata": {},
     "output_type": "execute_result"
    }
   ],
   "source": [
    "make_greeting(name=\"Dorrisile\", age=116)"
   ]
  },
  {
   "cell_type": "markdown",
   "metadata": {},
   "source": [
    "## Fancy decorators\n",
    "\n",
    "### Decorating classes\n",
    "* two main ways how to use decorators on classes:\n",
    "    * **decorate the methods of a class**\n",
    "        * [original motivation](https://www.python.org/dev/peps/pep-0318/#motivation) for introducing decorators\n",
    "        * Python comes with several built-in decorators, the big three are:\n",
    "            * `@classmethod`\n",
    "            * `@staticmethod`\n",
    "            * `@property`\n",
    "        \n",
    "    * **decorate the whole class**\n",
    "        * meaning is similar to the function decorators\n",
    "        * e.g. [dataclasses module](https://realpython.com/python-data-classes/) in Python 3.7\n",
    "            * similiarity to metaclasses(advanced)\n",
    "        \n",
    "Let’s define a class where we decorate some of its methods using the `@debug` and `@timer` decorators from earlier:"
   ]
  },
  {
   "cell_type": "code",
   "execution_count": 110,
   "metadata": {},
   "outputs": [],
   "source": [
    "class TimeWaster:\n",
    "    @debug\n",
    "    def __init__(self, max_num):\n",
    "        self.max_num = max_num\n",
    "\n",
    "    @timer\n",
    "    def waste_time(self, num_times):\n",
    "        for _ in range(num_times):\n",
    "            sum([i**2 for i in range(self.max_num)])"
   ]
  },
  {
   "cell_type": "code",
   "execution_count": 111,
   "metadata": {},
   "outputs": [
    {
     "name": "stdout",
     "output_type": "stream",
     "text": [
      "Calling __init__(<__main__.TimeWaster object at 0x0000029295B84DA0>, 1000)\n",
      "'__init__' returned None\n"
     ]
    }
   ],
   "source": [
    "tw = TimeWaster(1000)"
   ]
  },
  {
   "cell_type": "code",
   "execution_count": 112,
   "metadata": {},
   "outputs": [
    {
     "name": "stdout",
     "output_type": "stream",
     "text": [
      "Finished 'waste_time' in 0.2879 secs\n"
     ]
    }
   ],
   "source": [
    "tw.waste_time(999)"
   ]
  },
  {
   "cell_type": "markdown",
   "metadata": {},
   "source": [
    "### Nesting decorators\n",
    "* stack decorators on top of each other:\n",
    "    *  decorators being executed in the order they are listed."
   ]
  },
  {
   "cell_type": "code",
   "execution_count": 113,
   "metadata": {},
   "outputs": [],
   "source": [
    "@debug\n",
    "@do_twice\n",
    "def greet(name):\n",
    "    print(f\"Hello {name}\")"
   ]
  },
  {
   "cell_type": "code",
   "execution_count": 114,
   "metadata": {},
   "outputs": [
    {
     "name": "stdout",
     "output_type": "stream",
     "text": [
      "Calling wrapper_do_twice('Tomas')\n",
      "Hello Tomas\n",
      "Hello Tomas\n",
      "'wrapper_do_twice' returned None\n"
     ]
    }
   ],
   "source": [
    "greet(\"Tomas\")"
   ]
  },
  {
   "cell_type": "code",
   "execution_count": 115,
   "metadata": {},
   "outputs": [],
   "source": [
    "@do_twice\n",
    "@debug\n",
    "def greet(name):\n",
    "    print(f\"Hello {name}\")"
   ]
  },
  {
   "cell_type": "code",
   "execution_count": 116,
   "metadata": {},
   "outputs": [
    {
     "name": "stdout",
     "output_type": "stream",
     "text": [
      "Calling greet('Tomas')\n",
      "Hello Tomas\n",
      "'greet' returned None\n",
      "Calling greet('Tomas')\n",
      "Hello Tomas\n",
      "'greet' returned None\n"
     ]
    }
   ],
   "source": [
    "greet(\"Tomas\")"
   ]
  },
  {
   "cell_type": "markdown",
   "metadata": {},
   "source": [
    "### Decorators with arguments\n",
    "* until now, decorators were argumentless"
   ]
  },
  {
   "cell_type": "code",
   "execution_count": 121,
   "metadata": {},
   "outputs": [],
   "source": [
    "def repeat(num_times):\n",
    "    def decorator_repeat(func):\n",
    "        @functools.wraps(func)\n",
    "        def wrapper_repeat(*args, **kwargs):\n",
    "            for _ in range(num_times):\n",
    "                value = func(*args, **kwargs)\n",
    "            return value\n",
    "        return wrapper_repeat\n",
    "    return decorator_repeat"
   ]
  },
  {
   "cell_type": "code",
   "execution_count": 122,
   "metadata": {},
   "outputs": [],
   "source": [
    "@repeat(num_times=4)\n",
    "def greet(name):\n",
    "    print(f\"Hello {name}\")"
   ]
  },
  {
   "cell_type": "code",
   "execution_count": 123,
   "metadata": {},
   "outputs": [
    {
     "name": "stdout",
     "output_type": "stream",
     "text": [
      "Hello Lenka\n",
      "Hello Lenka\n",
      "Hello Lenka\n",
      "Hello Lenka\n"
     ]
    }
   ],
   "source": [
    "greet('Lenka')"
   ]
  },
  {
   "cell_type": "markdown",
   "metadata": {},
   "source": [
    "### Example: Slowing down code\n",
    "* we will make decorator `@slow_down` callable both with and without arguments"
   ]
  },
  {
   "cell_type": "code",
   "execution_count": 125,
   "metadata": {},
   "outputs": [],
   "source": [
    "import functools\n",
    "import time\n",
    "\n",
    "def slow_down(_func=None, *, rate=1):\n",
    "    \"\"\"Sleep given amount of seconds before calling the function\"\"\"\n",
    "    def decorator_slow_down(func):\n",
    "        @functools.wraps(func)\n",
    "        def wrapper_slow_down(*args, **kwargs):\n",
    "            time.sleep(rate)\n",
    "            return func(*args, **kwargs)\n",
    "        return wrapper_slow_down\n",
    "\n",
    "    if _func is None:\n",
    "        return decorator_slow_down\n",
    "    else:\n",
    "        return decorator_slow_down(_func)"
   ]
  },
  {
   "cell_type": "code",
   "execution_count": 126,
   "metadata": {},
   "outputs": [],
   "source": [
    "@slow_down(rate=1)\n",
    "def countdown(from_number):\n",
    "    if from_number < 1:\n",
    "        print(\"Liftoff!\")\n",
    "    else:\n",
    "        print(from_number)\n",
    "        countdown(from_number - 1)"
   ]
  },
  {
   "cell_type": "code",
   "execution_count": 247,
   "metadata": {},
   "outputs": [
    {
     "name": "stdout",
     "output_type": "stream",
     "text": [
      "3\n",
      "2\n",
      "1\n",
      "Liftoff!\n"
     ]
    }
   ],
   "source": [
    "countdown(3)"
   ]
  },
  {
   "cell_type": "markdown",
   "metadata": {},
   "source": [
    "# Dask\n",
    "* [Dask](https://docs.dask.org/en/latest/) is Python library for parallel computing\n",
    "* if you struggle with data that do not fit inot RAM\n",
    "* scales from laptops to clusters (not today) - all in Pythonic code\n",
    "    *  with minimal code changes, one can run code code in parallel taking advantage of the processing power already on your laptops, etc.\n",
    "* consists of 2 parts:\n",
    "    * **Dynamic task scheduling** optimized for interactive computational workloads\n",
    "    * **\"Big Data\" collections** like parallel arrays, dataframes, and lists that extend common interfaces like NumPy, Pandas, or Python iterators to larger-than-memory or distributed environments\n",
    "        * these parallel collections run on top of dynamic task schedulers.\n",
    "* [use cases from official docs](http://docs.dask.org/en/latest/use-cases.html) \n",
    "* features:\n",
    "    * similiar to pd DataFrames, np Arrays\n",
    "    * mimicing iterators - *Dask Bag*\n",
    "    * wrapping loops (with custom code) - *Dask Delayed*\n",
    "* takes away the pain of writing your own parallelization\n",
    "    * e.g. using [multiprocessing](https://docs.python.org/3.4/library/multiprocessing.html?highlight=process) (not so painfull but steep learning curve)\n",
    "\n",
    "## Delaying Computation with Dask\n",
    "* `delayed` is a *decorator* function that maps an input function into another modified output function\n",
    "    * can be used to *trivially* parallelize plenty of (arbitrary) code"
   ]
  },
  {
   "cell_type": "code",
   "execution_count": 136,
   "metadata": {},
   "outputs": [],
   "source": [
    "from time import sleep\n",
    "\n",
    "def inc(x):\n",
    "    sleep(1)\n",
    "    return x + 1\n",
    "\n",
    "def add(x, y):\n",
    "    sleep(1)\n",
    "    return x + y"
   ]
  },
  {
   "cell_type": "code",
   "execution_count": 142,
   "metadata": {},
   "outputs": [
    {
     "name": "stdout",
     "output_type": "stream",
     "text": [
      "Wall time: 3 s\n"
     ]
    }
   ],
   "source": [
    "%%time\n",
    "# This takes three seconds to run because we call each\n",
    "# function sequentially, one after the other\n",
    "\n",
    "x = inc(1)\n",
    "y = inc(2)\n",
    "z = add(x, y)\n",
    "z"
   ]
  },
  {
   "cell_type": "code",
   "execution_count": 138,
   "metadata": {},
   "outputs": [],
   "source": [
    "from dask import delayed"
   ]
  },
  {
   "cell_type": "code",
   "execution_count": 197,
   "metadata": {},
   "outputs": [
    {
     "name": "stdout",
     "output_type": "stream",
     "text": [
      "Wall time: 0 ns\n"
     ]
    }
   ],
   "source": [
    "%%time\n",
    "# This runs immediately, all it does is build a graph (regarding time)\n",
    "# delayed objects, can defer computation until we actually want to compute\n",
    "x = delayed(inc)(1)\n",
    "y = delayed(inc)(2)\n",
    "z = delayed(add)(x, y)"
   ]
  },
  {
   "cell_type": "code",
   "execution_count": 198,
   "metadata": {},
   "outputs": [
    {
     "data": {
      "text/plain": [
       "dask.delayed.Delayed"
      ]
     },
     "execution_count": 198,
     "metadata": {},
     "output_type": "execute_result"
    }
   ],
   "source": [
    "type(z) # a dask Delayed object (not a numerical value)"
   ]
  },
  {
   "cell_type": "code",
   "execution_count": 199,
   "metadata": {},
   "outputs": [
    {
     "name": "stdout",
     "output_type": "stream",
     "text": [
      "Wall time: 2.1 s\n"
     ]
    },
    {
     "data": {
      "text/plain": [
       "5"
      ]
     },
     "execution_count": 199,
     "metadata": {},
     "output_type": "execute_result"
    }
   ],
   "source": [
    "%%time\n",
    "# This actually runs our computation using a local thread pool\n",
    "z.compute()"
   ]
  },
  {
   "cell_type": "code",
   "execution_count": 200,
   "metadata": {},
   "outputs": [],
   "source": [
    "def f(x):\n",
    "    return sqrt(x + 4)\n",
    "\n",
    "f = delayed(f)"
   ]
  },
  {
   "cell_type": "code",
   "execution_count": 201,
   "metadata": {},
   "outputs": [],
   "source": [
    "@delayed # Equivalent to definition in the cell above\n",
    "def f(x):\n",
    "    return sqrt(x + 4)"
   ]
  },
  {
   "cell_type": "markdown",
   "metadata": {},
   "source": [
    "* `visualize()` displays a Task Graph [solution]\n",
    "    * shows the execution sequence and flow of data, e.g.\n",
    "            "
   ]
  },
  {
   "cell_type": "code",
   "execution_count": 202,
   "metadata": {},
   "outputs": [
    {
     "data": {
      "image/png": "[encoded data removed]",
      "text/plain": [
       "<IPython.core.display.Image object>"
      ]
     },
     "execution_count": 202,
     "metadata": {},
     "output_type": "execute_result"
    }
   ],
   "source": [
    "z.visualize()"
   ]
  },
  {
   "cell_type": "markdown",
   "metadata": {},
   "source": [
    "* deferring computation with Loops"
   ]
  },
  {
   "cell_type": "code",
   "execution_count": 158,
   "metadata": {},
   "outputs": [],
   "source": [
    "data = [1, 2, 3, 4, 5, 6, 7, 8]"
   ]
  },
  {
   "cell_type": "code",
   "execution_count": 159,
   "metadata": {},
   "outputs": [
    {
     "name": "stdout",
     "output_type": "stream",
     "text": [
      "Wall time: 8 s\n"
     ]
    }
   ],
   "source": [
    "%%time\n",
    "# Sequential code\n",
    "\n",
    "results = []\n",
    "for x in data:\n",
    "    y = inc(x)\n",
    "    results.append(y)\n",
    "total = sum(results)"
   ]
  },
  {
   "cell_type": "code",
   "execution_count": 160,
   "metadata": {},
   "outputs": [
    {
     "data": {
      "text/plain": [
       "44"
      ]
     },
     "execution_count": 160,
     "metadata": {},
     "output_type": "execute_result"
    }
   ],
   "source": [
    "total"
   ]
  },
  {
   "cell_type": "code",
   "execution_count": 216,
   "metadata": {},
   "outputs": [
    {
     "name": "stdout",
     "output_type": "stream",
     "text": [
      "Wall time: 2.12 s\n"
     ]
    }
   ],
   "source": [
    "%%time\n",
    "# Parallel code\n",
    "\n",
    "results = []\n",
    "\n",
    "for x in data:\n",
    "    y = delayed(inc)(x)\n",
    "    results.append(y)\n",
    "    \n",
    "total = delayed(sum)(results)\n",
    "\n",
    "# to get an actual output \n",
    "total.compute()"
   ]
  },
  {
   "cell_type": "code",
   "execution_count": 217,
   "metadata": {},
   "outputs": [
    {
     "data": {
      "image/png": "[encoded data removed]",
      "text/plain": [
       "<IPython.core.display.Image object>"
      ]
     },
     "execution_count": 217,
     "metadata": {},
     "output_type": "execute_result"
    }
   ],
   "source": [
    "total.visualize()"
   ]
  },
  {
   "cell_type": "code",
   "execution_count": 165,
   "metadata": {},
   "outputs": [],
   "source": [
    "# let's rewrite code above using decorator functions\n",
    "@delayed\n",
    "def inc_delayed(x):\n",
    "    sleep(1)\n",
    "    return x + 1\n",
    "\n",
    "@delayed\n",
    "def add_delayed(x, y):\n",
    "    sleep(1)\n",
    "    return x + y\n",
    "\n",
    "output = []\n",
    "\n",
    "for x in data:\n",
    "    a = inc_delayed(x)\n",
    "    output.append(a)\n",
    "\n",
    "total = sum(output)"
   ]
  },
  {
   "cell_type": "code",
   "execution_count": 166,
   "metadata": {},
   "outputs": [
    {
     "name": "stdout",
     "output_type": "stream",
     "text": [
      "Wall time: 1 s\n"
     ]
    },
    {
     "data": {
      "text/plain": [
       "44"
      ]
     },
     "execution_count": 166,
     "metadata": {},
     "output_type": "execute_result"
    }
   ],
   "source": [
    "%%time\n",
    "total.compute()"
   ]
  },
  {
   "cell_type": "markdown",
   "metadata": {},
   "source": [
    "* reason for usefullness of `delayed` (instead of just directly working with threads, processes, etc.) is that we can add logic in there, i.e. **flow-control**\n",
    "\n",
    "* often we want to delay only some functions, running a few of them immediately\n",
    "    * especially helpful when those functions are fast and help us to determine what other slower functions we should call\n",
    "* decision, to delay or not to delay, is usually where we need to be thoughtful when using `dask.delayed`\n",
    "\n",
    "In the example below we iterate through a list of inputs. If that input is even then we want to call inc. If the input is odd then we want to call double. This is_even decision to call inc or double has to be made immediately (not lazily) in order for our graph-building Python code to proceed."
   ]
  },
  {
   "cell_type": "code",
   "execution_count": 221,
   "metadata": {},
   "outputs": [],
   "source": [
    "def double(x):\n",
    "    sleep(1)\n",
    "    return 2 * x\n",
    "\n",
    "def is_even(x):\n",
    "    return not x % 2\n",
    "\n",
    "data = [1, 2, 3, 4, 5, 6, 7, 8, 9, 10]"
   ]
  },
  {
   "cell_type": "code",
   "execution_count": 222,
   "metadata": {},
   "outputs": [
    {
     "name": "stdout",
     "output_type": "stream",
     "text": [
      "90\n",
      "Wall time: 10 s\n"
     ]
    }
   ],
   "source": [
    "%%time\n",
    "# Sequential code\n",
    "\n",
    "results = []\n",
    "for x in data:\n",
    "    if is_even(x):\n",
    "        y = double(x)\n",
    "    else:\n",
    "        y = inc(x)\n",
    "    results.append(y)\n",
    "    \n",
    "total = sum(results)\n",
    "print(total)"
   ]
  },
  {
   "cell_type": "code",
   "execution_count": 228,
   "metadata": {},
   "outputs": [
    {
     "name": "stdout",
     "output_type": "stream",
     "text": [
      "Wall time: 2.13 s\n"
     ]
    }
   ],
   "source": [
    "%%time\n",
    "results = []\n",
    "for x in data:\n",
    "    # is_even is NOT delayed! we need it immediately\n",
    "    if is_even(x):  # even\n",
    "        y = delayed(double)(x)\n",
    "    else:          # odd\n",
    "        y = delayed(inc)(x)\n",
    "    results.append(y)\n",
    "    \n",
    "total = delayed(sum)(results)\n",
    "total.compute()"
   ]
  },
  {
   "cell_type": "code",
   "execution_count": 230,
   "metadata": {},
   "outputs": [
    {
     "data": {
      "image/png": "[encoded data removed]",
      "text/plain": [
       "<IPython.core.display.Image object>"
      ]
     },
     "execution_count": 230,
     "metadata": {},
     "output_type": "execute_result"
    }
   ],
   "source": [
    "total.visualize()"
   ]
  },
  {
   "cell_type": "markdown",
   "metadata": {},
   "source": [
    "* automatically assigns tasks to threads or processes\n",
    "    * you don't have to decompose the tasks yourself"
   ]
  },
  {
   "cell_type": "markdown",
   "metadata": {},
   "source": [
    "### More \"real-world\" example\n",
    "* read several CSV files and perform a groupby operation in parallel\n",
    "* look at sequential code, then we parallelize it with dask.delayed"
   ]
  },
  {
   "cell_type": "code",
   "execution_count": 189,
   "metadata": {},
   "outputs": [
    {
     "data": {
      "text/plain": [
       "'C:\\\\Users\\\\Martin Hronec\\\\Projects\\\\phd\\\\DPP_IES\\\\XX_Dask'"
      ]
     },
     "execution_count": 189,
     "metadata": {},
     "output_type": "execute_result"
    }
   ],
   "source": [
    "import os\n",
    "import pandas as pd\n",
    "os.getcwd()"
   ]
  },
  {
   "cell_type": "code",
   "execution_count": 190,
   "metadata": {},
   "outputs": [],
   "source": [
    "# columns will be czech, so let's rename them\n",
    "columns_translation = {'cislo_dot' : 'number',\n",
    "                    'kod_predm' : 'course_code',\n",
    "                    'nazev_predm' : 'course_title',\n",
    "                    'prednasejici' : 'teachers',\n",
    "                    'cvicici' : 'seminar_leaders',\n",
    "                    't1': 'c_value',\n",
    "                    't2': 'c_improve', \n",
    "                    'katedra_code' : 'department_code'}"
   ]
  },
  {
   "cell_type": "code",
   "execution_count": 237,
   "metadata": {},
   "outputs": [
    {
     "name": "stderr",
     "output_type": "stream",
     "text": [
      "b'Skipping line 1017: expected 21 fields, saw 22\\nSkipping line 2087: expected 21 fields, saw 22\\nSkipping line 2447: expected 21 fields, saw 22\\nSkipping line 2736: expected 21 fields, saw 22\\nSkipping line 2828: expected 21 fields, saw 23\\nSkipping line 3461: expected 21 fields, saw 24\\nSkipping line 3645: expected 21 fields, saw 24\\nSkipping line 4490: expected 21 fields, saw 23\\n'\n",
      "b'Skipping line 1816: expected 21 fields, saw 22\\nSkipping line 1877: expected 21 fields, saw 22\\nSkipping line 3253: expected 21 fields, saw 24\\nSkipping line 3270: expected 21 fields, saw 22\\nSkipping line 3329: expected 21 fields, saw 22\\n'\n",
      "b'Skipping line 7136: expected 21 fields, saw 23\\n'\n",
      "b'Skipping line 4890: expected 21 fields, saw 22\\nSkipping line 8304: expected 21 fields, saw 22\\nSkipping line 8358: expected 21 fields, saw 22\\n'\n",
      "b'Skipping line 1145: expected 21 fields, saw 22\\nSkipping line 1512: expected 21 fields, saw 22\\n'\n"
     ]
    },
    {
     "name": "stdout",
     "output_type": "stream",
     "text": [
      "Wall time: 944 ms\n"
     ]
    },
    {
     "name": "stderr",
     "output_type": "stream",
     "text": [
      "b'Skipping line 279: expected 21 fields, saw 22\\nSkipping line 4057: expected 21 fields, saw 22\\n'\n"
     ]
    }
   ],
   "source": [
    "%%time\n",
    "\n",
    "# relative path to the folder with files\n",
    "path_to_files = '../07/unzipped_data/'\n",
    "\n",
    "\n",
    "sums = []\n",
    "counts = []\n",
    "# data really start only in later years\n",
    "for d in os.listdir(path_to_files)[8:]:\n",
    "        year, semester = d.split('_')[1], d.split('_')[2][:2]\n",
    "        df_temp = pd.read_csv(path_to_files + d, sep = ';',\n",
    "                              header = 0, error_bad_lines=False)\n",
    "        df_temp = df_temp.rename(columns = columns_translation)\n",
    "        df_temp.dropna(how = 'all', inplace = True, axis = 1)\n",
    "        df_temp['year'] = int(year)\n",
    "        df_temp['semester'] = semester\n",
    "        total = df_temp.groupby('course_code')['q1'].sum()\n",
    "        count = df_temp.groupby('course_code')['q1'].count()\n",
    "        \n",
    "        mean = total / count\n",
    "        # Save the intermediates\n",
    "        sums.append(total)\n",
    "        counts.append(count)"
   ]
  },
  {
   "cell_type": "markdown",
   "metadata": {},
   "source": [
    "* we will use dask.delayed to parallelize the code above\n",
    "* methods and attribute access on delayed objects work automatically, so if you have a delayed object you can perform normal arithmetic, slicing, and method calls on it and it will produce the correct delayed calls\n",
    "* calling the `.compute()` method works well when you have a single output. When you have multiple outputs you might want to use the dask.compute function:"
   ]
  },
  {
   "cell_type": "code",
   "execution_count": 192,
   "metadata": {},
   "outputs": [],
   "source": [
    "from dask import compute"
   ]
  },
  {
   "cell_type": "code",
   "execution_count": 258,
   "metadata": {},
   "outputs": [
    {
     "name": "stdout",
     "output_type": "stream",
     "text": [
      "Wall time: 526 ms\n"
     ]
    }
   ],
   "source": [
    "%%time\n",
    "means = {}\n",
    "\n",
    "for d in os.listdir(path_to_files)[8:]:\n",
    "    \n",
    "        # redundant, just showcasing\n",
    "        year, semester = delayed(d.split)(('_'))[1], delayed(d.split)(('_'))[2][:2]\n",
    "        \n",
    "        df_temp = delayed(pd.read_csv)(path_to_files + d, sep = ';',\n",
    "                              header = 0, error_bad_lines=False)\n",
    "        \n",
    "        df_temp = df_temp.rename(columns = columns_translation)\n",
    "        df_temp = df_temp.dropna(how = 'all', axis = 1)\n",
    "        \n",
    "        total = df_temp.groupby('course_code')['q1'].sum()\n",
    "        count = df_temp.groupby('course_code')['q1'].count()\n",
    "        \n",
    "        mean = total / count\n",
    "        \n",
    "        means[d] = mean.values\n",
    "        \n",
    "# Compute the intermediates\n",
    "compute(means)"
   ]
  },
  {
   "cell_type": "code",
   "execution_count": 259,
   "metadata": {},
   "outputs": [],
   "source": [
    "compute(means);"
   ]
  },
  {
   "cell_type": "code",
   "execution_count": 260,
   "metadata": {},
   "outputs": [
    {
     "data": {
      "image/png": "[encoded data removed]",
      "text/plain": [
       "<IPython.core.display.Image object>"
      ]
     },
     "execution_count": 260,
     "metadata": {},
     "output_type": "execute_result"
    }
   ],
   "source": [
    "mean.visualize(rankdir='LR')"
   ]
  },
  {
   "cell_type": "markdown",
   "metadata": {},
   "source": [
    "### Process vs. Thread\n",
    "* both **processes** and **threads** are independent sequences of execution\n",
    "* **process** is an instance of program \n",
    "* processes spawn **threads** (sub-processes) to handle subtasks\n",
    "    * threads are entities within a process that can be scheduled for execution\n",
    "* threads (of the same process) run in a shared memory space\n",
    "* dask scheduler can assign work to multiple threads or processes if available"
   ]
  },
  {
   "cell_type": "markdown",
   "metadata": {},
   "source": [
    "## Working with Dask Arrays\n",
    "\n",
    "* dask arrays share many attributes and methods with the numpy array\n",
    "    * Attributes: shape, ndim, nbytes, dtype, size, etc.\n",
    "    * Aggregations: max, min, mean, std, var, sum, prod, etc. \n",
    "    * Array transformations: reshape, repeat, stack, flatten, transpose, T, etc. \n",
    "    * Mathematical operations: round, real, imag, conj, dot, etc."
   ]
  },
  {
   "cell_type": "code",
   "execution_count": 210,
   "metadata": {},
   "outputs": [],
   "source": [
    "import dask.array as da\n",
    "import numpy as np"
   ]
  },
  {
   "cell_type": "code",
   "execution_count": 211,
   "metadata": {},
   "outputs": [],
   "source": [
    "a = np.random.rand(100000)\n",
    "\n",
    "# constructs a dask array from np.array\n",
    "a_dask = da.from_array(a,chunks = len(a) // 4)"
   ]
  },
  {
   "cell_type": "code",
   "execution_count": 212,
   "metadata": {},
   "outputs": [
    {
     "name": "stdout",
     "output_type": "stream",
     "text": [
      "Wall time: 2 ms\n"
     ]
    }
   ],
   "source": [
    "%%time\n",
    "### Aggregating with np Arrays\n",
    "\n",
    "n_chunks = 4\n",
    "chunk_size = len(a) // n_chunks\n",
    "\n",
    "# accumulate sum explicitly  \n",
    "result = 0\n",
    "\n",
    "# within the loop, slice each chunk explicitly, by finding its offset, i.e. actual index where each chunk begins\n",
    "# each loop is independent, could be executed in parallel\n",
    "for k in range(n_chunks):\n",
    "    offset = k * chunk_size # track offset explicitly\n",
    "    a_chunk = a[offset:offset + chunk_size] # slice chunk explicitly\n",
    "    result += a_chunk.sum()\n",
    "    \n",
    "result"
   ]
  },
  {
   "cell_type": "code",
   "execution_count": 213,
   "metadata": {},
   "outputs": [
    {
     "name": "stdout",
     "output_type": "stream",
     "text": [
      "Wall time: 81.8 ms\n"
     ]
    }
   ],
   "source": [
    "%%time\n",
    "### Aggregating with Dask Arrays\n",
    "\n",
    "# constructs a dask array from np.array\n",
    "a_dask = da.from_array(a,chunks = len(a) // n_chunks)\n",
    "result = a_dask.sum()\n",
    "\n",
    "result.compute()"
   ]
  },
  {
   "cell_type": "code",
   "execution_count": 256,
   "metadata": {},
   "outputs": [
    {
     "data": {
      "image/png": "[encoded data removed]",
      "text/plain": [
       "<IPython.core.display.Image object>"
      ]
     },
     "execution_count": 256,
     "metadata": {},
     "output_type": "execute_result"
    }
   ],
   "source": [
    "# create graph\n",
    "result.visualize(rankdir='LR')"
   ]
  },
  {
   "cell_type": "code",
   "execution_count": null,
   "metadata": {},
   "outputs": [],
   "source": []
  },
  {
   "cell_type": "markdown",
   "metadata": {},
   "source": [
    "### Dask diagnostics dashboard\n",
    "* more in the official [manual](http://distributed.dask.org/en/latest/web.html)"
   ]
  },
  {
   "cell_type": "code",
   "execution_count": 185,
   "metadata": {},
   "outputs": [
    {
     "data": {
      "text/html": [
       "<table style=\"border: 2px solid white;\">\n",
       "<tr>\n",
       "<td style=\"vertical-align: top; border: 0px solid white\">\n",
       "<h3>Client</h3>\n",
       "<ul>\n",
       "  <li><b>Scheduler: </b>tcp://127.0.0.1:50402\n",
       "  <li><b>Dashboard: </b><a href='http://127.0.0.1:8787/status' target='_blank'>http://127.0.0.1:8787/status</a>\n",
       "</ul>\n",
       "</td>\n",
       "<td style=\"vertical-align: top; border: 0px solid white\">\n",
       "<h3>Cluster</h3>\n",
       "<ul>\n",
       "  <li><b>Workers: </b>2</li>\n",
       "  <li><b>Cores: </b>4</li>\n",
       "  <li><b>Memory: </b>4.00 GB</li>\n",
       "</ul>\n",
       "</td>\n",
       "</tr>\n",
       "</table>"
      ],
      "text/plain": [
       "<Client: scheduler='tcp://127.0.0.1:50402' processes=2 cores=4>"
      ]
     },
     "execution_count": 185,
     "metadata": {},
     "output_type": "execute_result"
    }
   ],
   "source": [
    "from dask.distributed import Client, progress\n",
    "client = Client(n_workers=2, threads_per_worker=2, memory_limit='2GB')\n",
    "client"
   ]
  },
  {
   "cell_type": "code",
   "execution_count": 186,
   "metadata": {},
   "outputs": [
    {
     "name": "stderr",
     "output_type": "stream",
     "text": [
      "C:\\Anaconda3\\lib\\site-packages\\distributed\\bokeh\\core.py:57: UserWarning: \n",
      "Port 8787 is already in use. \n",
      "Perhaps you already have a cluster running?\n",
      "Hosting the diagnostics dashboard on a random port instead.\n",
      "  warnings.warn('\\n' + msg)\n"
     ]
    },
    {
     "data": {
      "text/html": [
       "<table style=\"border: 2px solid white;\">\n",
       "<tr>\n",
       "<td style=\"vertical-align: top; border: 0px solid white\">\n",
       "<h3>Client</h3>\n",
       "<ul>\n",
       "  <li><b>Scheduler: </b>tcp://127.0.0.1:50426\n",
       "  <li><b>Dashboard: </b><a href='http://127.0.0.1:50429/status' target='_blank'>http://127.0.0.1:50429/status</a>\n",
       "</ul>\n",
       "</td>\n",
       "<td style=\"vertical-align: top; border: 0px solid white\">\n",
       "<h3>Cluster</h3>\n",
       "<ul>\n",
       "  <li><b>Workers: </b>4</li>\n",
       "  <li><b>Cores: </b>8</li>\n",
       "  <li><b>Memory: </b>17.02 GB</li>\n",
       "</ul>\n",
       "</td>\n",
       "</tr>\n",
       "</table>"
      ],
      "text/plain": [
       "<Client: scheduler='tcp://127.0.0.1:50426' processes=4 cores=8>"
      ]
     },
     "execution_count": 186,
     "metadata": {},
     "output_type": "execute_result"
    }
   ],
   "source": [
    "client = Client()\n",
    "client"
   ]
  },
  {
   "cell_type": "markdown",
   "metadata": {},
   "source": [
    "# Using Dask DataFrames\n",
    "\n",
    "* Dask DataFrame is a delayed version of Pandas DataFrame\n",
    "    * as Dask array is a delyaed version of Numpy array\n",
    "* substantial overlap of pandas and dask functionality\n",
    "* capabilities:\n",
    "    * manipulating large datasets (even when those datasets don’t fit in memory)\n",
    "    * accelerating long computations by using many cores\n",
    "    * distributed computing on large datasets with standard Pandas operations like groupby, join, and time series computations\n",
    "\n",
    "\n",
    "* we can also use so called *glob* pattern: `dd.read_csv('*.csv')`"
   ]
  },
  {
   "cell_type": "code",
   "execution_count": 238,
   "metadata": {},
   "outputs": [],
   "source": [
    "import dask.dataframe as dd"
   ]
  },
  {
   "cell_type": "code",
   "execution_count": 239,
   "metadata": {},
   "outputs": [
    {
     "name": "stdout",
     "output_type": "stream",
     "text": [
      "Object `dd.read_csv;` not found.\n"
     ]
    }
   ],
   "source": [
    "# does not read file immediately (lazy evaluation)\n",
    "?dd.read_csv;"
   ]
  },
  {
   "cell_type": "code",
   "execution_count": 240,
   "metadata": {},
   "outputs": [
    {
     "name": "stderr",
     "output_type": "stream",
     "text": [
      "b'Skipping line 279: expected 21 fields, saw 22\\n'\n"
     ]
    }
   ],
   "source": [
    "df = dd.read_csv(path_to_files + 'data_2017_zs.csv', \n",
    "            sep = ';', header = 0, error_bad_lines=False)"
   ]
  },
  {
   "cell_type": "code",
   "execution_count": 152,
   "metadata": {},
   "outputs": [
    {
     "data": {
      "text/html": [
       "<div><strong>Dask DataFrame Structure:</strong></div>\n",
       "<div>\n",
       "<style scoped>\n",
       "    .dataframe tbody tr th:only-of-type {\n",
       "        vertical-align: middle;\n",
       "    }\n",
       "\n",
       "    .dataframe tbody tr th {\n",
       "        vertical-align: top;\n",
       "    }\n",
       "\n",
       "    .dataframe thead th {\n",
       "        text-align: right;\n",
       "    }\n",
       "</style>\n",
       "<table border=\"1\" class=\"dataframe\">\n",
       "  <thead>\n",
       "    <tr style=\"text-align: right;\">\n",
       "      <th></th>\n",
       "      <th>cislo_dot</th>\n",
       "      <th>kod_predm</th>\n",
       "      <th>nazev_predm</th>\n",
       "      <th>prednasejici</th>\n",
       "      <th>cvicici</th>\n",
       "      <th>q1</th>\n",
       "      <th>q2</th>\n",
       "      <th>q3</th>\n",
       "      <th>q4</th>\n",
       "      <th>q5</th>\n",
       "      <th>q6</th>\n",
       "      <th>q7</th>\n",
       "      <th>q8</th>\n",
       "      <th>q9</th>\n",
       "      <th>q10</th>\n",
       "      <th>q11</th>\n",
       "      <th>q12</th>\n",
       "      <th>q13</th>\n",
       "      <th>t1</th>\n",
       "      <th>t2</th>\n",
       "      <th>katedra_code</th>\n",
       "    </tr>\n",
       "    <tr>\n",
       "      <th>npartitions=1</th>\n",
       "      <th></th>\n",
       "      <th></th>\n",
       "      <th></th>\n",
       "      <th></th>\n",
       "      <th></th>\n",
       "      <th></th>\n",
       "      <th></th>\n",
       "      <th></th>\n",
       "      <th></th>\n",
       "      <th></th>\n",
       "      <th></th>\n",
       "      <th></th>\n",
       "      <th></th>\n",
       "      <th></th>\n",
       "      <th></th>\n",
       "      <th></th>\n",
       "      <th></th>\n",
       "      <th></th>\n",
       "      <th></th>\n",
       "      <th></th>\n",
       "      <th></th>\n",
       "    </tr>\n",
       "  </thead>\n",
       "  <tbody>\n",
       "    <tr>\n",
       "      <th></th>\n",
       "      <td>int64</td>\n",
       "      <td>object</td>\n",
       "      <td>object</td>\n",
       "      <td>object</td>\n",
       "      <td>object</td>\n",
       "      <td>float64</td>\n",
       "      <td>float64</td>\n",
       "      <td>float64</td>\n",
       "      <td>float64</td>\n",
       "      <td>float64</td>\n",
       "      <td>float64</td>\n",
       "      <td>float64</td>\n",
       "      <td>float64</td>\n",
       "      <td>float64</td>\n",
       "      <td>float64</td>\n",
       "      <td>float64</td>\n",
       "      <td>float64</td>\n",
       "      <td>float64</td>\n",
       "      <td>object</td>\n",
       "      <td>object</td>\n",
       "      <td>object</td>\n",
       "    </tr>\n",
       "    <tr>\n",
       "      <th></th>\n",
       "      <td>...</td>\n",
       "      <td>...</td>\n",
       "      <td>...</td>\n",
       "      <td>...</td>\n",
       "      <td>...</td>\n",
       "      <td>...</td>\n",
       "      <td>...</td>\n",
       "      <td>...</td>\n",
       "      <td>...</td>\n",
       "      <td>...</td>\n",
       "      <td>...</td>\n",
       "      <td>...</td>\n",
       "      <td>...</td>\n",
       "      <td>...</td>\n",
       "      <td>...</td>\n",
       "      <td>...</td>\n",
       "      <td>...</td>\n",
       "      <td>...</td>\n",
       "      <td>...</td>\n",
       "      <td>...</td>\n",
       "      <td>...</td>\n",
       "    </tr>\n",
       "  </tbody>\n",
       "</table>\n",
       "</div>\n",
       "<div>Dask Name: from-delayed, 3 tasks</div>"
      ],
      "text/plain": [
       "Dask DataFrame Structure:\n",
       "              cislo_dot kod_predm nazev_predm prednasejici cvicici       q1       q2       q3       q4       q5       q6       q7       q8       q9      q10      q11      q12      q13      t1      t2 katedra_code\n",
       "npartitions=1                                                                                                                                                                                                       \n",
       "                  int64    object      object       object  object  float64  float64  float64  float64  float64  float64  float64  float64  float64  float64  float64  float64  float64  object  object       object\n",
       "                    ...       ...         ...          ...     ...      ...      ...      ...      ...      ...      ...      ...      ...      ...      ...      ...      ...      ...     ...     ...          ...\n",
       "Dask Name: from-delayed, 3 tasks"
      ]
     },
     "execution_count": 152,
     "metadata": {},
     "output_type": "execute_result"
    }
   ],
   "source": [
    "df"
   ]
  },
  {
   "cell_type": "code",
   "execution_count": 164,
   "metadata": {},
   "outputs": [
    {
     "data": {
      "text/plain": [
       "cislo_dot         int64\n",
       "kod_predm        object\n",
       "nazev_predm      object\n",
       "prednasejici     object\n",
       "cvicici          object\n",
       "q1              float64\n",
       "q2              float64\n",
       "q3              float64\n",
       "q4              float64\n",
       "q5              float64\n",
       "q6              float64\n",
       "q7              float64\n",
       "q8              float64\n",
       "q9              float64\n",
       "q10             float64\n",
       "q11             float64\n",
       "q12             float64\n",
       "q13             float64\n",
       "t1               object\n",
       "t2               object\n",
       "katedra_code     object\n",
       "dtype: object"
      ]
     },
     "execution_count": 164,
     "metadata": {},
     "output_type": "execute_result"
    }
   ],
   "source": [
    "df.dtypes"
   ]
  },
  {
   "cell_type": "code",
   "execution_count": 165,
   "metadata": {},
   "outputs": [
    {
     "data": {
      "text/html": [
       "<div>\n",
       "<style scoped>\n",
       "    .dataframe tbody tr th:only-of-type {\n",
       "        vertical-align: middle;\n",
       "    }\n",
       "\n",
       "    .dataframe tbody tr th {\n",
       "        vertical-align: top;\n",
       "    }\n",
       "\n",
       "    .dataframe thead th {\n",
       "        text-align: right;\n",
       "    }\n",
       "</style>\n",
       "<table border=\"1\" class=\"dataframe\">\n",
       "  <thead>\n",
       "    <tr style=\"text-align: right;\">\n",
       "      <th></th>\n",
       "      <th>cislo_dot</th>\n",
       "      <th>kod_predm</th>\n",
       "      <th>nazev_predm</th>\n",
       "      <th>prednasejici</th>\n",
       "      <th>cvicici</th>\n",
       "      <th>q1</th>\n",
       "      <th>q2</th>\n",
       "      <th>q3</th>\n",
       "      <th>q4</th>\n",
       "      <th>q5</th>\n",
       "      <th>...</th>\n",
       "      <th>q7</th>\n",
       "      <th>q8</th>\n",
       "      <th>q9</th>\n",
       "      <th>q10</th>\n",
       "      <th>q11</th>\n",
       "      <th>q12</th>\n",
       "      <th>q13</th>\n",
       "      <th>t1</th>\n",
       "      <th>t2</th>\n",
       "      <th>katedra_code</th>\n",
       "    </tr>\n",
       "  </thead>\n",
       "  <tbody>\n",
       "    <tr>\n",
       "      <th>0</th>\n",
       "      <td>1</td>\n",
       "      <td>JEB003</td>\n",
       "      <td>Ekonomie I</td>\n",
       "      <td>Fanta,N.,Kracík,J.,Švarcová,N.</td>\n",
       "      <td>Fanta,N.,Kracík,J.,Švarcová,N.</td>\n",
       "      <td>3.0</td>\n",
       "      <td>5.0</td>\n",
       "      <td>4.0</td>\n",
       "      <td>5.0</td>\n",
       "      <td>4.0</td>\n",
       "      <td>...</td>\n",
       "      <td>4.0</td>\n",
       "      <td>3.0</td>\n",
       "      <td>1.0</td>\n",
       "      <td>4.0</td>\n",
       "      <td>1.0</td>\n",
       "      <td>NaN</td>\n",
       "      <td>2.0</td>\n",
       "      <td>NaN</td>\n",
       "      <td>NaN</td>\n",
       "      <td>ies</td>\n",
       "    </tr>\n",
       "    <tr>\n",
       "      <th>1</th>\n",
       "      <td>2</td>\n",
       "      <td>JLB003</td>\n",
       "      <td>Angličtina pro ekonomy I</td>\n",
       "      <td>NaN</td>\n",
       "      <td>Poslušná,L.</td>\n",
       "      <td>5.0</td>\n",
       "      <td>3.0</td>\n",
       "      <td>NaN</td>\n",
       "      <td>NaN</td>\n",
       "      <td>NaN</td>\n",
       "      <td>...</td>\n",
       "      <td>5.0</td>\n",
       "      <td>5.0</td>\n",
       "      <td>1.0</td>\n",
       "      <td>5.0</td>\n",
       "      <td>5.0</td>\n",
       "      <td>5.0</td>\n",
       "      <td>5.0</td>\n",
       "      <td>NaN</td>\n",
       "      <td>NaN</td>\n",
       "      <td>cjp</td>\n",
       "    </tr>\n",
       "    <tr>\n",
       "      <th>2</th>\n",
       "      <td>3</td>\n",
       "      <td>NMMA701</td>\n",
       "      <td>Matematika 1</td>\n",
       "      <td>Spurný,J.</td>\n",
       "      <td>Rondoš,J.</td>\n",
       "      <td>3.0</td>\n",
       "      <td>5.0</td>\n",
       "      <td>3.0</td>\n",
       "      <td>2.0</td>\n",
       "      <td>1.0</td>\n",
       "      <td>...</td>\n",
       "      <td>4.0</td>\n",
       "      <td>5.0</td>\n",
       "      <td>1.0</td>\n",
       "      <td>3.0</td>\n",
       "      <td>2.0</td>\n",
       "      <td>2.0</td>\n",
       "      <td>1.0</td>\n",
       "      <td>NaN</td>\n",
       "      <td>NaN</td>\n",
       "      <td>ies</td>\n",
       "    </tr>\n",
       "  </tbody>\n",
       "</table>\n",
       "<p>3 rows × 21 columns</p>\n",
       "</div>"
      ],
      "text/plain": [
       "   cislo_dot kod_predm               nazev_predm  \\\n",
       "0          1    JEB003                Ekonomie I   \n",
       "1          2    JLB003  Angličtina pro ekonomy I   \n",
       "2          3   NMMA701              Matematika 1   \n",
       "\n",
       "                     prednasejici                         cvicici   q1   q2  \\\n",
       "0  Fanta,N.,Kracík,J.,Švarcová,N.  Fanta,N.,Kracík,J.,Švarcová,N.  3.0  5.0   \n",
       "1                             NaN                     Poslušná,L.  5.0  3.0   \n",
       "2                       Spurný,J.                       Rondoš,J.  3.0  5.0   \n",
       "\n",
       "    q3   q4   q5  ...   q7   q8   q9  q10  q11  q12  q13   t1   t2  \\\n",
       "0  4.0  5.0  4.0  ...  4.0  3.0  1.0  4.0  1.0  NaN  2.0  NaN  NaN   \n",
       "1  NaN  NaN  NaN  ...  5.0  5.0  1.0  5.0  5.0  5.0  5.0  NaN  NaN   \n",
       "2  3.0  2.0  1.0  ...  4.0  5.0  1.0  3.0  2.0  2.0  1.0  NaN  NaN   \n",
       "\n",
       "  katedra_code  \n",
       "0          ies  \n",
       "1          cjp  \n",
       "2          ies  \n",
       "\n",
       "[3 rows x 21 columns]"
      ]
     },
     "execution_count": 165,
     "metadata": {},
     "output_type": "execute_result"
    }
   ],
   "source": [
    "df.head(3)"
   ]
  },
  {
   "cell_type": "code",
   "execution_count": 166,
   "metadata": {},
   "outputs": [],
   "source": [
    "#using standard Pandas operations\n",
    "df2 = df[df.q1 > 4]\n",
    "df3 = df2.groupby('kod_predm').q1.mean()"
   ]
  },
  {
   "cell_type": "code",
   "execution_count": 167,
   "metadata": {},
   "outputs": [
    {
     "data": {
      "text/html": [
       "<div><strong>Dask DataFrame Structure:</strong></div>\n",
       "<div>\n",
       "<style scoped>\n",
       "    .dataframe tbody tr th:only-of-type {\n",
       "        vertical-align: middle;\n",
       "    }\n",
       "\n",
       "    .dataframe tbody tr th {\n",
       "        vertical-align: top;\n",
       "    }\n",
       "\n",
       "    .dataframe thead th {\n",
       "        text-align: right;\n",
       "    }\n",
       "</style>\n",
       "<table border=\"1\" class=\"dataframe\">\n",
       "  <thead>\n",
       "    <tr style=\"text-align: right;\">\n",
       "      <th></th>\n",
       "      <th>cislo_dot</th>\n",
       "      <th>kod_predm</th>\n",
       "      <th>nazev_predm</th>\n",
       "      <th>prednasejici</th>\n",
       "      <th>cvicici</th>\n",
       "      <th>q1</th>\n",
       "      <th>q2</th>\n",
       "      <th>q3</th>\n",
       "      <th>q4</th>\n",
       "      <th>q5</th>\n",
       "      <th>q6</th>\n",
       "      <th>q7</th>\n",
       "      <th>q8</th>\n",
       "      <th>q9</th>\n",
       "      <th>q10</th>\n",
       "      <th>q11</th>\n",
       "      <th>q12</th>\n",
       "      <th>q13</th>\n",
       "      <th>t1</th>\n",
       "      <th>t2</th>\n",
       "      <th>katedra_code</th>\n",
       "    </tr>\n",
       "    <tr>\n",
       "      <th>npartitions=1</th>\n",
       "      <th></th>\n",
       "      <th></th>\n",
       "      <th></th>\n",
       "      <th></th>\n",
       "      <th></th>\n",
       "      <th></th>\n",
       "      <th></th>\n",
       "      <th></th>\n",
       "      <th></th>\n",
       "      <th></th>\n",
       "      <th></th>\n",
       "      <th></th>\n",
       "      <th></th>\n",
       "      <th></th>\n",
       "      <th></th>\n",
       "      <th></th>\n",
       "      <th></th>\n",
       "      <th></th>\n",
       "      <th></th>\n",
       "      <th></th>\n",
       "      <th></th>\n",
       "    </tr>\n",
       "  </thead>\n",
       "  <tbody>\n",
       "    <tr>\n",
       "      <th></th>\n",
       "      <td>int64</td>\n",
       "      <td>object</td>\n",
       "      <td>object</td>\n",
       "      <td>object</td>\n",
       "      <td>object</td>\n",
       "      <td>float64</td>\n",
       "      <td>float64</td>\n",
       "      <td>float64</td>\n",
       "      <td>float64</td>\n",
       "      <td>float64</td>\n",
       "      <td>float64</td>\n",
       "      <td>float64</td>\n",
       "      <td>float64</td>\n",
       "      <td>float64</td>\n",
       "      <td>float64</td>\n",
       "      <td>float64</td>\n",
       "      <td>float64</td>\n",
       "      <td>float64</td>\n",
       "      <td>object</td>\n",
       "      <td>object</td>\n",
       "      <td>object</td>\n",
       "    </tr>\n",
       "    <tr>\n",
       "      <th></th>\n",
       "      <td>...</td>\n",
       "      <td>...</td>\n",
       "      <td>...</td>\n",
       "      <td>...</td>\n",
       "      <td>...</td>\n",
       "      <td>...</td>\n",
       "      <td>...</td>\n",
       "      <td>...</td>\n",
       "      <td>...</td>\n",
       "      <td>...</td>\n",
       "      <td>...</td>\n",
       "      <td>...</td>\n",
       "      <td>...</td>\n",
       "      <td>...</td>\n",
       "      <td>...</td>\n",
       "      <td>...</td>\n",
       "      <td>...</td>\n",
       "      <td>...</td>\n",
       "      <td>...</td>\n",
       "      <td>...</td>\n",
       "      <td>...</td>\n",
       "    </tr>\n",
       "  </tbody>\n",
       "</table>\n",
       "</div>\n",
       "<div>Dask Name: getitem, 6 tasks</div>"
      ],
      "text/plain": [
       "Dask DataFrame Structure:\n",
       "              cislo_dot kod_predm nazev_predm prednasejici cvicici       q1       q2       q3       q4       q5       q6       q7       q8       q9      q10      q11      q12      q13      t1      t2 katedra_code\n",
       "npartitions=1                                                                                                                                                                                                       \n",
       "                  int64    object      object       object  object  float64  float64  float64  float64  float64  float64  float64  float64  float64  float64  float64  float64  float64  object  object       object\n",
       "                    ...       ...         ...          ...     ...      ...      ...      ...      ...      ...      ...      ...      ...      ...      ...      ...      ...      ...     ...     ...          ...\n",
       "Dask Name: getitem, 6 tasks"
      ]
     },
     "execution_count": 167,
     "metadata": {},
     "output_type": "execute_result"
    }
   ],
   "source": [
    "df2"
   ]
  },
  {
   "cell_type": "code",
   "execution_count": 168,
   "metadata": {},
   "outputs": [
    {
     "data": {
      "text/plain": [
       "Dask Series Structure:\n",
       "npartitions=1\n",
       "    float64\n",
       "        ...\n",
       "Name: q1, dtype: float64\n",
       "Dask Name: truediv, 11 tasks"
      ]
     },
     "execution_count": 168,
     "metadata": {},
     "output_type": "execute_result"
    }
   ],
   "source": [
    "df3"
   ]
  },
  {
   "cell_type": "code",
   "execution_count": 169,
   "metadata": {},
   "outputs": [],
   "source": [
    "# call compute() when we want the result as a Pandas dataframe\n",
    "df3.compute()\n",
    "df2.compute();"
   ]
  },
  {
   "cell_type": "markdown",
   "metadata": {},
   "source": [
    "* we can watch the status page during computation (link is above)\n",
    "* we cam persist data in memory (if we have available RAM)"
   ]
  },
  {
   "cell_type": "code",
   "execution_count": 245,
   "metadata": {},
   "outputs": [],
   "source": [
    "df = dd.read_csv(path_to_files + '*.csv',\n",
    "                sep = ';', header = 0, error_bad_lines=False)"
   ]
  },
  {
   "cell_type": "code",
   "execution_count": 261,
   "metadata": {},
   "outputs": [],
   "source": [
    "df.compute();"
   ]
  },
  {
   "cell_type": "code",
   "execution_count": 262,
   "metadata": {},
   "outputs": [
    {
     "data": {
      "image/png": "[encoded data removed]",
      "text/plain": [
       "<IPython.core.display.Image object>"
      ]
     },
     "execution_count": 262,
     "metadata": {},
     "output_type": "execute_result"
    }
   ],
   "source": [
    "df.visualize()"
   ]
  },
  {
   "cell_type": "markdown",
   "metadata": {},
   "source": [
    "### Dask delayed best practices\n",
    "* [official docs](https://github.com/dask/dask/blob/master/docs/source/delayed-best-practices.rst)\n",
    "\n"
   ]
  },
  {
   "cell_type": "code",
   "execution_count": null,
   "metadata": {},
   "outputs": [],
   "source": []
  }
 ],
 "metadata": {
  "kernelspec": {
   "display_name": "Python 3",
   "language": "python",
   "name": "python3"
  },
  "language_info": {
   "codemirror_mode": {
    "name": "ipython",
    "version": 3
   },
   "file_extension": ".py",
   "mimetype": "text/x-python",
   "name": "python",
   "nbconvert_exporter": "python",
   "pygments_lexer": "ipython3",
   "version": "3.6.8"
  }
 },
 "nbformat": 4,
 "nbformat_minor": 2
}
